{
  "metadata": {
    "language_info": {
      "codemirror_mode": {
        "name": "python",
        "version": 3
      },
      "file_extension": ".py",
      "mimetype": "text/x-python",
      "name": "python",
      "nbconvert_exporter": "python",
      "pygments_lexer": "ipython3",
      "version": "3.8"
    },
    "kernelspec": {
      "name": "python",
      "display_name": "Python (Pyodide)",
      "language": "python"
    }
  },
  "nbformat_minor": 4,
  "nbformat": 4,
  "cells": [
    {
      "cell_type": "code",
      "source": "# 1:Guido van Rossum had devloped python language\n# 2:Object-oriented programming and structured programming are fully supported for python language.\n# 3:Yes, Python is a case-sensitive language,it treats upper and lower case differently,its case sensitive in dealing identifires also.\n# 4:The extensions for Python files are 1(. py) 2(. pyi)\n# 5:Python is an interpreted language, which means the source code of a Python program is converted into bytecode that is then executed by the Python virtual machine\n# 6:A Python program is constructed from code blocks. A block is a piece of Python program text that is executed as a unit. The following are blocks: a module, a function body, and a class definition.\n# 7: The # character is used to start a single line comment in python. \n#8:The following comamd can be used to check the version of python Using (1)sys.version (2)python_version() Python -V command ..\n#9:Python uses lambda to create anonymous function diring runtime .\n# 10:pip install comand looks the package in PyPi and resolves its dependancies and install everything the python environment according to the request.\n# 11:open(),pow(),print() are examples of few builtin function in python.\n# 12: 79 is the max length of an identifier in python.\n# 13:main 5 advantage of python is 1-Large developer community,2-Extensive libraries 3-write less do more ,4-portability,5-wide range of use cases\n#14:Memory management in Python involves a private heap containing all Python objects and data structures. The management of this private heap is ensured internally by the Python memory manager.\n#15:C:\\Users\\satya\\AppData\\Local\\Programs\\Python\\Python39 is to set path varribles for installing python in window.\n#16:Yes indention is required in python without it oython will throw an error.",
      "metadata": {},
      "execution_count": null,
      "outputs": []
    }
  ]
}