{
  "metadata": {
    "language_info": {
      "codemirror_mode": {
        "name": "python",
        "version": 3
      },
      "file_extension": ".py",
      "mimetype": "text/x-python",
      "name": "python",
      "nbconvert_exporter": "python",
      "pygments_lexer": "ipython3",
      "version": "3.8"
    },
    "kernelspec": {
      "name": "python",
      "display_name": "Python (Pyodide)",
      "language": "python"
    }
  },
  "nbformat_minor": 4,
  "nbformat": 4,
  "cells": [
    {
      "cell_type": "code",
      "source": "# Q-1:Guido van Rossum is a Dutch programmer best known as the creator of the Python programming language",
      "metadata": {},
      "execution_count": null,
      "outputs": []
    },
    {
      "cell_type": "code",
      "source": "#Q-2: Python supports multiple programming paradigms beyond object-oriented programming, such as procedural and functional programming.\n#Q-3: Yes python is case sewnsitive while dealing with identifier.\n#Q-4:The extensions for Python files are - . py, . pyi, .\n#Q-5:Python is an interpreted language.\n# Q-6:The following are blocks: a module, a function body, and a class definition. Each command typed interactively is a block. A script file (a file given as standard input to the interpreter or specified as a command line argument to the interpreter) is a code block.\n#Q-7:In Python, the # character is used to start a comment\n# Q-8:To get the Version of the python Interpreter, they are listed as follows: Using sys. version method. Using python_version() function\n#Q-9:Explanation: Python supports the creation of anonymous functions (i.e. functions that are not bound to a name) at runtime, using a construct called lambda.\n#Q-10:Developed in 2008, pip (an acronym of “pip Install Packages”) is today the standard tool for installing Python packages and their dependencies in a secure manner. \n #Q-11:Python abs() returns absolute value of a number.\n   Python all()-- returns true when all elements in iterable is true.\n   Python any() --Checks if any Element of an Iterable is True.\n    Python bool()--Converts a Value to Boolean\n   Python bytes()---returns immutable bytes object\n\n#Q-12:An identifier can have a maximum length of 79 characters in Python.\n\n#Q-13:\n5 advantages of Python\nLarge developer community. Python is one of the most popular programming languages in the world. ...\nExtensive libraries. Python offers a wide range of libraries that can be used across various applications. ...\nWrite less, do more. Python has very concise syntax. ...\nPortability. ...\nWide range of use cases.\n\n#Q-14:Memory management in Python involves a private heap containing all Python objects and data structures. The management of this private heap is ensured internally by the Python memory manager.\n#Q-15: Can install puthon from the site manaitined by python or and for path varribales in window--On the Windows taskbar, right-click the Windows icon and select System. In the Settings window, under Related Settings, click Advanced system settings. On the Advanced tab, click Environment Variables. Click New to create a new environment variable.\n#Q-16: Yes Indentation is needed in python ,missing the symbol will throw an error.",
      "metadata": {},
      "execution_count": null,
      "outputs": []
    }
  ]
}